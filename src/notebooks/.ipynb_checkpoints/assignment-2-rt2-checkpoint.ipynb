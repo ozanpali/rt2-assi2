{
 "cells": [
  {
   "cell_type": "code",
   "execution_count": 1,
   "id": "bf422df3",
   "metadata": {},
   "outputs": [],
   "source": [
    "import rospy\n",
    "import actionlib\n",
    "import assignment_2_2023.msg\n",
    "from geometry_msgs.msg import PoseStamped\n",
    "import ipywidgets as widgets\n",
    "from IPython.display import display, HTML\n",
    "from nav_msgs.msg import Odometry\n",
    "from monitoring_package.srv import pose, poseResponse\n",
    "\n",
    "import matplotlib as mpl\n",
    "import matplotlib.pyplot as plt\n",
    "from matplotlib.animation import FuncAnimation"
   ]
  },
  {
   "cell_type": "code",
   "execution_count": 2,
   "id": "8bd5caf7",
   "metadata": {},
   "outputs": [
    {
     "name": "stdout",
     "output_type": "stream",
     "text": [
      "[DEBUG] [1717189987.888481, 0.000000]: init_node, name[/jupyter_node], pid[79937]\n",
      "[DEBUG] [1717189987.897362, 0.000000]: binding to 0.0.0.0 0\n",
      "[DEBUG] [1717189987.907006, 0.000000]: bound to 0.0.0.0 46273\n",
      "[DEBUG] [1717189987.920290, 0.000000]: ... service URL is rosrpc://3895a9d20828:46273\n",
      "[DEBUG] [1717189987.935287, 0.000000]: [/jupyter_node/get_loggers]: new Service instance\n",
      "[DEBUG] [1717189987.936943, 0.000000]: connecting to 3895a9d20828 42625\n",
      "[DEBUG] [1717189987.950530, 0.000000]: ... service URL is rosrpc://3895a9d20828:46273\n",
      "[DEBUG] [1717189987.957665, 0.000000]: [/jupyter_node/set_logger_level]: new Service instance\n"
     ]
    }
   ],
   "source": [
    "rospy.init_node('jupyter_node', log_level=rospy.DEBUG)"
   ]
  },
  {
   "cell_type": "code",
   "execution_count": 3,
   "id": "ae922840",
   "metadata": {},
   "outputs": [
    {
     "name": "stdout",
     "output_type": "stream",
     "text": [
      "[DEBUG] [1717189988.046438, 1944.078000]: connecting to 3895a9d20828 41725\n",
      "planning_client waiting for server\n",
      "[DEBUG] [1717189988.085256, 1944.100000]: connecting to 3895a9d20828 41725\n",
      "[DEBUG] [1717189988.106539, 1944.113000]: connecting to 3895a9d20828 41725\n",
      "[INFO] [1717189988.117583, 1944.119000]: server ready. publishing goal\n"
     ]
    }
   ],
   "source": [
    "\n",
    "client = actionlib.SimpleActionClient('/reaching_goal', assignment_2_2023.msg.PlanningAction)\n",
    "print(\"planning_client waiting for server\")\n",
    "client.wait_for_server()\n",
    "rospy.loginfo(\"server ready. publishing goal\")\n",
    "\n"
   ]
  },
  {
   "cell_type": "code",
   "execution_count": 4,
   "id": "1d89381b",
   "metadata": {},
   "outputs": [
    {
     "data": {
      "application/vnd.jupyter.widget-view+json": {
       "model_id": "42f6ac66d5134df88e838c6b4f7f6198",
       "version_major": 2,
       "version_minor": 0
      },
      "text/plain": [
       "FloatText(value=2.0)"
      ]
     },
     "metadata": {},
     "output_type": "display_data"
    },
    {
     "data": {
      "application/vnd.jupyter.widget-view+json": {
       "model_id": "a8d957a3999c4872803bbb7aa87d5216",
       "version_major": 2,
       "version_minor": 0
      },
      "text/plain": [
       "FloatText(value=3.0)"
      ]
     },
     "metadata": {},
     "output_type": "display_data"
    },
    {
     "data": {
      "application/vnd.jupyter.widget-view+json": {
       "model_id": "bb7ae7df88ab4fbe8900b8f1832d39fa",
       "version_major": 2,
       "version_minor": 0
      },
      "text/plain": [
       "Button(description='Send', icon='check', style=ButtonStyle(), tooltip='Click me')"
      ]
     },
     "metadata": {},
     "output_type": "display_data"
    },
    {
     "data": {
      "application/vnd.jupyter.widget-view+json": {
       "model_id": "e9ea20d38ded4125acd595feb41535c8",
       "version_major": 2,
       "version_minor": 0
      },
      "text/plain": [
       "Output()"
      ]
     },
     "metadata": {},
     "output_type": "display_data"
    },
    {
     "data": {
      "application/vnd.jupyter.widget-view+json": {
       "model_id": "98cc0d74f7e943318a2d48089f961011",
       "version_major": 2,
       "version_minor": 0
      },
      "text/plain": [
       "Button(description='cancel', icon='check', style=ButtonStyle(), tooltip='Click me')"
      ]
     },
     "metadata": {},
     "output_type": "display_data"
    },
    {
     "data": {
      "application/vnd.jupyter.widget-view+json": {
       "model_id": "eee541c34a2744e1ab67fcec23035753",
       "version_major": 2,
       "version_minor": 0
      },
      "text/plain": [
       "Output()"
      ]
     },
     "metadata": {},
     "output_type": "display_data"
    }
   ],
   "source": [
    "xInput = widgets.FloatText(\n",
    "    value=2,\n",
    "    tag_style='info',\n",
    "    format = '.2f'\n",
    ")\n",
    "display(xInput)\n",
    "\n",
    "yInput = widgets.FloatText(\n",
    "    value=3,\n",
    "    tag_style='info',\n",
    "    format = '.2f'\n",
    ")\n",
    "display(yInput)\n",
    "\n",
    "\n",
    "button_var = widgets.Button(\n",
    "    description='Send',\n",
    "    disabled=False,\n",
    "    button_style='', # 'success', 'info', 'warning', 'danger' or ''\n",
    "    tooltip='Click me',\n",
    "    icon='check'\n",
    ")\n",
    "output = widgets.Output()\n",
    "\n",
    "xGoal = []\n",
    "yGoal = []\n",
    "achieved_goals_count = 0    \n",
    "def feedback_handle(e):\n",
    "    global achieved_goals_count\n",
    "        \n",
    "    if (e.stat.strip() == 'Target reached!'):\n",
    "        achieved_goals_count+=1\n",
    "        \n",
    "def on_button_clicked(b):\n",
    "    global xGoal, yGoal, done_callback, feedback_handle\n",
    "    pose = PoseStamped()\n",
    "    pose.pose.position.x = xInput.value\n",
    "    pose.pose.position.y = yInput.value\n",
    "    xGoal.append(xInput.value)\n",
    "    yGoal.append(yInput.value)\n",
    "    goal = assignment_2_2023.msg.PlanningGoal(target_pose=pose)\n",
    "    client.send_goal(goal, feedback_cb=feedback_handle)\n",
    "\n",
    "display(button_var, output)\n",
    "button_var.on_click(on_button_clicked)\n",
    "\n",
    "\n",
    "#cancel\n",
    "button_cancel = widgets.Button(\n",
    "    description='cancel',\n",
    "    disabled=False,\n",
    "    button_style='', # 'success', 'info', 'warning', 'danger' or ''\n",
    "    tooltip='Click me',\n",
    "    icon='check'\n",
    ")\n",
    "output_cancel = widgets.Output()\n",
    "cancelled_goals_count = 0\n",
    "def on_button_clicked_cancel(b):\n",
    "    global cancelled_goals_count\n",
    "    client.cancel_goal()\n",
    "    cancelled_goals_count +=1\n",
    "\n",
    "display(button_cancel, output_cancel)\n",
    "button_cancel.on_click(on_button_clicked_cancel)\n"
   ]
  },
  {
   "cell_type": "code",
   "execution_count": 5,
   "id": "f9e4df76",
   "metadata": {},
   "outputs": [
    {
     "data": {
      "text/plain": [
       "2.0"
      ]
     },
     "execution_count": 5,
     "metadata": {},
     "output_type": "execute_result"
    }
   ],
   "source": [
    "xInput.value"
   ]
  },
  {
   "cell_type": "code",
   "execution_count": 6,
   "id": "efe604e9",
   "metadata": {},
   "outputs": [],
   "source": [
    "#subscribe to velocity and pos of robot\n",
    "\n",
    "xposes = []\n",
    "yposes = []\n",
    "\n",
    "def publishPoseAndVelocity(msg):\n",
    "    global xposes, yposes\n",
    "    \"\"\"\n",
    "        This function serves as the handler for the subscriber listening to the topic `/odom`. It receives messages from `odom`, extracts pose and velocity data, and publishes them on the topic `current_pose_velocity_publisher`.\n",
    "    \"\"\"\n",
    "    \n",
    "    xposes.append(msg.pose.pose.position.x)\n",
    "    yposes.append(msg.pose.pose.position.y)\n",
    "    \n",
    "    \n",
    "    \n",
    "poseVelocitySubscriber = rospy.Subscriber('/odom', Odometry, publishPoseAndVelocity)\n"
   ]
  },
  {
   "cell_type": "code",
   "execution_count": 7,
   "id": "8fe7eb09",
   "metadata": {},
   "outputs": [
    {
     "name": "stdout",
     "output_type": "stream",
     "text": [
      "[DEBUG] [1717189988.493910, 1944.268000]: connecting to 3895a9d20828 42625\n"
     ]
    },
    {
     "data": {
      "application/vnd.jupyter.widget-view+json": {
       "model_id": "c6ee6a1e061e4269b1ac9689b8f6dc56",
       "version_major": 2,
       "version_minor": 0
      },
      "text/plain": [
       "Canvas(toolbar=Toolbar(toolitems=[('Home', 'Reset original view', 'home', 'home'), ('Back', 'Back to previous …"
      ]
     },
     "metadata": {},
     "output_type": "display_data"
    }
   ],
   "source": [
    "%matplotlib widget\n",
    "fig, ax = plt.subplots()\n",
    "ln, = plt.plot(xposes, yposes, 'ro')\n",
    "ln2, = plt.plot(xGoal, yGoal, 'bs')\n",
    "ax.set_xlim(-10, 10)\n",
    "ax.set_ylim(-10, 10)\n",
    "def update_plot(f):\n",
    "    global xposes, yposes, xGoal, yGoal\n",
    "    ln.set_data(xposes, yposes)\n",
    "    ln2.set_data(xGoal,yGoal)\n",
    "    return ln, ln2,\n",
    "\n",
    "ani = FuncAnimation(fig, update_plot)\n",
    "plt.show(block=True)"
   ]
  },
  {
   "cell_type": "code",
   "execution_count": 8,
   "id": "27dc5331",
   "metadata": {},
   "outputs": [
    {
     "data": {
      "application/vnd.jupyter.widget-view+json": {
       "model_id": "f0df52cc992b43cf93867d858a672258",
       "version_major": 2,
       "version_minor": 0
      },
      "text/plain": [
       "Canvas(toolbar=Toolbar(toolitems=[('Home', 'Reset original view', 'home', 'home'), ('Back', 'Back to previous …"
      ]
     },
     "metadata": {},
     "output_type": "display_data"
    },
    {
     "name": "stdout",
     "output_type": "stream",
     "text": [
      "0\n"
     ]
    }
   ],
   "source": [
    "fig, ax = plt.subplots()\n",
    "bp = None\n",
    "print(achieved_goals_count)\n",
    "def cb(frame):\n",
    "    global xGoal, bp, fig, ax, cancelled_goals_count, achieved_goals_count\n",
    "    xlabels = ['Sent','Cancelled', 'Achieved']\n",
    "    count = [len(xGoal),cancelled_goals_count, achieved_goals_count]\n",
    "    ax.cla()\n",
    "    #Redraw box plot\n",
    "    bp = ax.bar(xlabels,count,color='blue',width=0.6)\n",
    "    plt.show()\n",
    "    return bp\n",
    "\n",
    "ani2 = FuncAnimation(fig,cb)\n",
    "\n",
    "\n"
   ]
  }
 ],
 "metadata": {
  "kernelspec": {
   "display_name": "Python 3 (ipykernel)",
   "language": "python",
   "name": "python3"
  },
  "language_info": {
   "codemirror_mode": {
    "name": "ipython",
    "version": 3
   },
   "file_extension": ".py",
   "mimetype": "text/x-python",
   "name": "python",
   "nbconvert_exporter": "python",
   "pygments_lexer": "ipython3",
   "version": "3.8.5"
  }
 },
 "nbformat": 4,
 "nbformat_minor": 5
}
